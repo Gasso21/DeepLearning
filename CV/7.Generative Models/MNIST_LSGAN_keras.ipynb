{
 "cells": [
  {
   "cell_type": "markdown",
   "id": "d514f352",
   "metadata": {
    "id": "d514f352"
   },
   "source": [
    "# MNIST"
   ]
  },
  {
   "cell_type": "code",
   "execution_count": 1,
   "id": "1ab287c6",
   "metadata": {
    "colab": {
     "base_uri": "https://localhost:8080/"
    },
    "executionInfo": {
     "elapsed": 3613,
     "status": "ok",
     "timestamp": 1677400353721,
     "user": {
      "displayName": "정재환",
      "userId": "09193973191764812123"
     },
     "user_tz": -540
    },
    "id": "1ab287c6",
    "outputId": "5e59aba5-f2ab-49e8-b0a9-d0d153f160a7"
   },
   "outputs": [
    {
     "name": "stdout",
     "output_type": "stream",
     "text": [
      "Once deleted, variables cannot be recovered. Proceed (y/[n])? y\n"
     ]
    }
   ],
   "source": [
    "%reset"
   ]
  },
  {
   "cell_type": "code",
   "execution_count": 2,
   "id": "T-y8-qc0NxxR",
   "metadata": {
    "colab": {
     "base_uri": "https://localhost:8080/"
    },
    "executionInfo": {
     "elapsed": 2378,
     "status": "ok",
     "timestamp": 1677400360986,
     "user": {
      "displayName": "정재환",
      "userId": "09193973191764812123"
     },
     "user_tz": -540
    },
    "id": "T-y8-qc0NxxR",
    "outputId": "b0fc9d86-1784-413f-9f9e-6d408faf444f"
   },
   "outputs": [
    {
     "name": "stdout",
     "output_type": "stream",
     "text": [
      "Drive already mounted at /content/drive; to attempt to forcibly remount, call drive.mount(\"/content/drive\", force_remount=True).\n"
     ]
    }
   ],
   "source": [
    "from google.colab import drive\n",
    "drive.mount('/content/drive')"
   ]
  },
  {
   "cell_type": "code",
   "execution_count": 3,
   "id": "WM9C9v0xNOrm",
   "metadata": {
    "colab": {
     "base_uri": "https://localhost:8080/",
     "height": 54
    },
    "executionInfo": {
     "elapsed": 7,
     "status": "ok",
     "timestamp": 1677400360987,
     "user": {
      "displayName": "정재환",
      "userId": "09193973191764812123"
     },
     "user_tz": -540
    },
    "id": "WM9C9v0xNOrm",
    "outputId": "0b551f28-52e8-4f88-b4a7-807dc9334149"
   },
   "outputs": [
    {
     "name": "stdout",
     "output_type": "stream",
     "text": [
      "/content/drive/MyDrive/Colab_Notebooks\n"
     ]
    },
    {
     "data": {
      "application/vnd.google.colaboratory.intrinsic+json": {
       "type": "string"
      },
      "text/plain": [
       "'/content/drive/MyDrive/Colab_Notebooks'"
      ]
     },
     "execution_count": 3,
     "metadata": {},
     "output_type": "execute_result"
    }
   ],
   "source": [
    "import os, sys\n",
    "%cd /content/drive/MyDrive/Colab_Notebooks\n",
    "os.getcwd()"
   ]
  },
  {
   "cell_type": "code",
   "execution_count": 1,
   "id": "57a6d664",
   "metadata": {
    "executionInfo": {
     "elapsed": 2772,
     "status": "ok",
     "timestamp": 1677400363754,
     "user": {
      "displayName": "정재환",
      "userId": "09193973191764812123"
     },
     "user_tz": -540
    },
    "id": "57a6d664"
   },
   "outputs": [],
   "source": [
    "import tensorflow as tf\n",
    "from tensorflow import keras\n",
    "from keras.layers import Input\n",
    "from tensorflow.keras.optimizers import RMSprop\n",
    "from keras.models import Model\n",
    "from keras.datasets import mnist\n",
    "from keras import backend as K\n",
    "from keras.models import load_model\n",
    "from lib import gan\n",
    "\n",
    "import numpy as np\n",
    "import argparse\n",
    "import matplotlib.pyplot as plt\n",
    "\n",
    "%matplotlib inline\n",
    "%config InlineBackend.figure_format='retina'"
   ]
  },
  {
   "cell_type": "code",
   "execution_count": 5,
   "id": "2d04b87b",
   "metadata": {
    "executionInfo": {
     "elapsed": 4,
     "status": "ok",
     "timestamp": 1677400363754,
     "user": {
      "displayName": "정재환",
      "userId": "09193973191764812123"
     },
     "user_tz": -540
    },
    "id": "2d04b87b"
   },
   "outputs": [],
   "source": [
    "def build_and_train_models():\n",
    "    (x_train, _), (_, _) = mnist.load_data()\n",
    "    \n",
    "    # Reshape & Normalize\n",
    "    image_size = x_train.shape[1]\n",
    "    x_train = np.reshape(x_train, [-1, image_size, image_size, 1])\n",
    "    x_train = x_train.astype('float32')/255\n",
    "    \n",
    "    model_name = 'lsgan_mnist'\n",
    "    \n",
    "    # Network Params\n",
    "    latent_size = 100 # z-vector dimension\n",
    "    batch_size = 64\n",
    "    train_steps = 40000\n",
    "    lr = 2e-4\n",
    "    decay = 6e-8\n",
    "    input_shape = (image_size, image_size, 1)\n",
    "\n",
    "    # In Keras 2.11.0, 'decay' argument changed to 'weight_decay'\n",
    "    # Discriminator model\n",
    "    inputs = keras.Input(shape=input_shape, name='discriminator_input')\n",
    "    discriminator = gan.discriminator(inputs, activation=None)\n",
    "    # discriminator = build_discriminator(inputs)\n",
    "    optimizer = RMSprop(learning_rate=lr, weight_decay=decay)\n",
    "    discriminator.compile(loss='mse',\n",
    "                          optimizer=optimizer,\n",
    "                          metrics=['accuracy']\n",
    "                         )\n",
    "    discriminator.summary()\n",
    "    \n",
    "    # Generator model\n",
    "    input_shape = (latent_size, )\n",
    "    inputs = keras.Input(shape=input_shape, name='z_input')\n",
    "    generator = gan.generator(inputs, image_size)\n",
    "    generator.summary()\n",
    "    \n",
    "    # Adversarial model\n",
    "    optimizer = RMSprop(learning_rate=lr*0.5, weight_decay=decay*0.5,)\n",
    "    discriminator.trainable = False\n",
    "    ## Adversarial = Generator + Discriminator\n",
    "    adversarial = Model(inputs, discriminator(generator(inputs)), name=model_name)\n",
    "    adversarial.compile(loss='mse',\n",
    "                        optimizer=optimizer,\n",
    "                        metrics=['accuracy']\n",
    "                       )\n",
    "    adversarial.summary()\n",
    "    \n",
    "    models = (generator, discriminator, adversarial)\n",
    "    params = (batch_size, latent_size, train_steps, model_name)\n",
    "    gan.train(models, x_train, params)"
   ]
  },
  {
   "cell_type": "code",
   "execution_count": 6,
   "id": "ab6d4ddc",
   "metadata": {
    "colab": {
     "base_uri": "https://localhost:8080/",
     "height": 1000
    },
    "executionInfo": {
     "elapsed": 74826,
     "status": "error",
     "timestamp": 1677406617992,
     "user": {
      "displayName": "정재환",
      "userId": "09193973191764812123"
     },
     "user_tz": -540
    },
    "id": "ab6d4ddc",
    "outputId": "a60cb301-c22e-4a89-be9b-cfa600c65910"
   },
   "outputs": [
    {
     "name": "stdout",
     "output_type": "stream",
     "text": [
      "36520: [discriminator loss: 0.168108, acc: 0.789062] [adversarial loss: 0.434616, acc: 0.234375]\n",
      "2/2 [==============================] - 0s 29ms/step\n",
      "36521: [discriminator loss: 0.153909, acc: 0.789062] [adversarial loss: 0.571968, acc: 0.140625]\n",
      "2/2 [==============================] - 0s 63ms/step\n",
      "36522: [discriminator loss: 0.178329, acc: 0.742188] [adversarial loss: 0.325703, acc: 0.546875]\n",
      "2/2 [==============================] - 0s 46ms/step\n",
      "36523: [discriminator loss: 0.187238, acc: 0.765625] [adversarial loss: 0.725818, acc: 0.062500]\n",
      "2/2 [==============================] - 0s 47ms/step\n",
      "36524: [discriminator loss: 0.188222, acc: 0.710938] [adversarial loss: 0.396955, acc: 0.390625]\n",
      "2/2 [==============================] - 0s 46ms/step\n",
      "36525: [discriminator loss: 0.158613, acc: 0.804688] [adversarial loss: 0.434248, acc: 0.281250]\n",
      "2/2 [==============================] - 0s 58ms/step\n",
      "36526: [discriminator loss: 0.174677, acc: 0.742188] [adversarial loss: 0.374014, acc: 0.390625]\n",
      "2/2 [==============================] - 0s 61ms/step\n",
      "36527: [discriminator loss: 0.170631, acc: 0.710938] [adversarial loss: 0.514283, acc: 0.265625]\n",
      "2/2 [==============================] - 0s 130ms/step\n",
      "36528: [discriminator loss: 0.182930, acc: 0.757812] [adversarial loss: 0.496305, acc: 0.187500]\n",
      "2/2 [==============================] - 0s 118ms/step\n",
      "36529: [discriminator loss: 0.175289, acc: 0.710938] [adversarial loss: 0.508074, acc: 0.281250]\n",
      "2/2 [==============================] - 0s 101ms/step\n",
      "36530: [discriminator loss: 0.172166, acc: 0.718750] [adversarial loss: 0.394648, acc: 0.328125]\n",
      "2/2 [==============================] - 0s 95ms/step\n",
      "36531: [discriminator loss: 0.193143, acc: 0.648438] [adversarial loss: 0.619803, acc: 0.156250]\n",
      "2/2 [==============================] - 0s 104ms/step\n",
      "36532: [discriminator loss: 0.159005, acc: 0.757812] [adversarial loss: 0.402188, acc: 0.359375]\n",
      "2/2 [==============================] - 0s 125ms/step\n",
      "36533: [discriminator loss: 0.172648, acc: 0.726562] [adversarial loss: 0.561021, acc: 0.125000]\n",
      "2/2 [==============================] - 1s 197ms/step\n",
      "36534: [discriminator loss: 0.166269, acc: 0.750000] [adversarial loss: 0.355357, acc: 0.421875]\n",
      "2/2 [==============================] - 1s 189ms/step\n",
      "36535: [discriminator loss: 0.177235, acc: 0.750000] [adversarial loss: 0.543734, acc: 0.140625]\n",
      "2/2 [==============================] - 1s 186ms/step\n",
      "36536: [discriminator loss: 0.192941, acc: 0.679688] [adversarial loss: 0.373816, acc: 0.453125]\n",
      "2/2 [==============================] - 1s 219ms/step\n",
      "36537: [discriminator loss: 0.164021, acc: 0.765625] [adversarial loss: 0.541586, acc: 0.250000]\n",
      "2/2 [==============================] - 1s 249ms/step\n",
      "36538: [discriminator loss: 0.168722, acc: 0.726562] [adversarial loss: 0.369873, acc: 0.359375]\n",
      "2/2 [==============================] - 1s 266ms/step\n",
      "36539: [discriminator loss: 0.179253, acc: 0.734375] [adversarial loss: 0.607021, acc: 0.156250]\n",
      "2/2 [==============================] - 1s 269ms/step\n",
      "36540: [discriminator loss: 0.186758, acc: 0.742188] [adversarial loss: 0.438961, acc: 0.281250]\n",
      "2/2 [==============================] - 1s 299ms/step\n",
      "36541: [discriminator loss: 0.184110, acc: 0.718750] [adversarial loss: 0.626359, acc: 0.125000]\n",
      "2/2 [==============================] - 1s 274ms/step\n",
      "36542: [discriminator loss: 0.189825, acc: 0.710938] [adversarial loss: 0.373800, acc: 0.390625]\n",
      "2/2 [==============================] - 1s 294ms/step\n",
      "36543: [discriminator loss: 0.193060, acc: 0.695312] [adversarial loss: 0.744638, acc: 0.046875]\n",
      "2/2 [==============================] - 2s 846ms/step\n"
     ]
    },
    {
     "ename": "KeyboardInterrupt",
     "evalue": "ignored",
     "output_type": "error",
     "traceback": [
      "\u001b[0;31m---------------------------------------------------------------------------\u001b[0m",
      "\u001b[0;31mKeyboardInterrupt\u001b[0m                         Traceback (most recent call last)",
      "\u001b[0;32m<ipython-input-6-cebb445f4780>\u001b[0m in \u001b[0;36m<module>\u001b[0;34m\u001b[0m\n\u001b[1;32m      1\u001b[0m \u001b[0;32mif\u001b[0m \u001b[0m__name__\u001b[0m\u001b[0;34m==\u001b[0m\u001b[0;34m'__main__'\u001b[0m\u001b[0;34m:\u001b[0m\u001b[0;34m\u001b[0m\u001b[0;34m\u001b[0m\u001b[0m\n\u001b[0;32m----> 2\u001b[0;31m     \u001b[0mbuild_and_train_models\u001b[0m\u001b[0;34m(\u001b[0m\u001b[0;34m)\u001b[0m\u001b[0;34m\u001b[0m\u001b[0;34m\u001b[0m\u001b[0m\n\u001b[0m",
      "\u001b[0;32m<ipython-input-5-7b673350ce1b>\u001b[0m in \u001b[0;36mbuild_and_train_models\u001b[0;34m()\u001b[0m\n\u001b[1;32m     48\u001b[0m     \u001b[0mmodels\u001b[0m \u001b[0;34m=\u001b[0m \u001b[0;34m(\u001b[0m\u001b[0mgenerator\u001b[0m\u001b[0;34m,\u001b[0m \u001b[0mdiscriminator\u001b[0m\u001b[0;34m,\u001b[0m \u001b[0madversarial\u001b[0m\u001b[0;34m)\u001b[0m\u001b[0;34m\u001b[0m\u001b[0;34m\u001b[0m\u001b[0m\n\u001b[1;32m     49\u001b[0m     \u001b[0mparams\u001b[0m \u001b[0;34m=\u001b[0m \u001b[0;34m(\u001b[0m\u001b[0mbatch_size\u001b[0m\u001b[0;34m,\u001b[0m \u001b[0mlatent_size\u001b[0m\u001b[0;34m,\u001b[0m \u001b[0mtrain_steps\u001b[0m\u001b[0;34m,\u001b[0m \u001b[0mmodel_name\u001b[0m\u001b[0;34m)\u001b[0m\u001b[0;34m\u001b[0m\u001b[0;34m\u001b[0m\u001b[0m\n\u001b[0;32m---> 50\u001b[0;31m     \u001b[0mgan\u001b[0m\u001b[0;34m.\u001b[0m\u001b[0mtrain\u001b[0m\u001b[0;34m(\u001b[0m\u001b[0mmodels\u001b[0m\u001b[0;34m,\u001b[0m \u001b[0mx_train\u001b[0m\u001b[0;34m,\u001b[0m \u001b[0mparams\u001b[0m\u001b[0;34m)\u001b[0m\u001b[0;34m\u001b[0m\u001b[0;34m\u001b[0m\u001b[0m\n\u001b[0m",
      "\u001b[0;32m/content/drive/MyDrive/Colab_Notebooks/lib/gan.py\u001b[0m in \u001b[0;36mtrain\u001b[0;34m(models, x_train, params)\u001b[0m\n\u001b[1;32m    212\u001b[0m         \u001b[0;31m# for classification\u001b[0m\u001b[0;34m\u001b[0m\u001b[0;34m\u001b[0m\u001b[0;34m\u001b[0m\u001b[0m\n\u001b[1;32m    213\u001b[0m         \u001b[0;31m# log the loss and accuracy\u001b[0m\u001b[0;34m\u001b[0m\u001b[0;34m\u001b[0m\u001b[0;34m\u001b[0m\u001b[0m\n\u001b[0;32m--> 214\u001b[0;31m         \u001b[0mloss\u001b[0m\u001b[0;34m,\u001b[0m \u001b[0macc\u001b[0m \u001b[0;34m=\u001b[0m \u001b[0madversarial\u001b[0m\u001b[0;34m.\u001b[0m\u001b[0mtrain_on_batch\u001b[0m\u001b[0;34m(\u001b[0m\u001b[0mnoise\u001b[0m\u001b[0;34m,\u001b[0m \u001b[0my\u001b[0m\u001b[0;34m)\u001b[0m\u001b[0;34m\u001b[0m\u001b[0;34m\u001b[0m\u001b[0m\n\u001b[0m\u001b[1;32m    215\u001b[0m         \u001b[0mlog\u001b[0m \u001b[0;34m=\u001b[0m \u001b[0;34m\"%s [adversarial loss: %f, acc: %f]\"\u001b[0m \u001b[0;34m%\u001b[0m \u001b[0;34m(\u001b[0m\u001b[0mlog\u001b[0m\u001b[0;34m,\u001b[0m \u001b[0mloss\u001b[0m\u001b[0;34m,\u001b[0m \u001b[0macc\u001b[0m\u001b[0;34m)\u001b[0m\u001b[0;34m\u001b[0m\u001b[0;34m\u001b[0m\u001b[0m\n\u001b[1;32m    216\u001b[0m         \u001b[0mprint\u001b[0m\u001b[0;34m(\u001b[0m\u001b[0mlog\u001b[0m\u001b[0;34m)\u001b[0m\u001b[0;34m\u001b[0m\u001b[0;34m\u001b[0m\u001b[0m\n",
      "\u001b[0;31mKeyboardInterrupt\u001b[0m: "
     ]
    }
   ],
   "source": [
    "if __name__=='__main__':\n",
    "    build_and_train_models()"
   ]
  },
  {
   "cell_type": "code",
   "execution_count": 5,
   "id": "58ee5fcf",
   "metadata": {},
   "outputs": [
    {
     "name": "stdout",
     "output_type": "stream",
     "text": [
      "WARNING:tensorflow:No training configuration found in the save file, so the model was *not* compiled. Compile it manually.\n"
     ]
    },
    {
     "name": "stderr",
     "output_type": "stream",
     "text": [
      "2023-02-26 20:17:11.301626: I tensorflow/core/grappler/optimizers/custom_graph_optimizer_registry.cc:113] Plugin optimizer for device_type GPU is enabled.\n"
     ]
    },
    {
     "data": {
      "image/png": "[encoded data removed]",
      "text/plain": [
       "<Figure size 220x220 with 16 Axes>"
      ]
     },
     "metadata": {
      "image/png": {
       "height": 189,
       "width": 190
      }
     },
     "output_type": "display_data"
    }
   ],
   "source": [
    "from keras.models import load_model\n",
    "\n",
    "generator = load_model(\"./lsgan_mnist_30000.h5\")\n",
    "noise = np.random.uniform(-1.0, 1.0, size=[16, 100])\n",
    "gan.plot_images(generator,\n",
    "                noise_input=noise,\n",
    "                show=True,\n",
    "                model_name=\"test_image\"\n",
    "               )"
   ]
  }
 ],
 "metadata": {
  "accelerator": "GPU",
  "colab": {
   "provenance": [
    {
     "file_id": "https://github.com/Gasso21/Artificial-Intelligence/blob/Artificial-Intelligence/DeepLearning/GAN/MNIST_LSGAN_keras.ipynb",
     "timestamp": 1677389612151
    }
   ]
  },
  "gpuClass": "standard",
  "kernelspec": {
   "display_name": "Python 3 (ipykernel)",
   "language": "python",
   "name": "python3"
  },
  "language_info": {
   "codemirror_mode": {
    "name": "ipython",
    "version": 3
   },
   "file_extension": ".py",
   "mimetype": "text/x-python",
   "name": "python",
   "nbconvert_exporter": "python",
   "pygments_lexer": "ipython3",
   "version": "3.9.15"
  }
 },
 "nbformat": 4,
 "nbformat_minor": 5
}
