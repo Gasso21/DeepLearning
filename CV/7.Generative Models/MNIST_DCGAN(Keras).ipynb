{
 "cells": [
  {
   "cell_type": "markdown",
   "id": "d3179fc1",
   "metadata": {},
   "source": [
    "# MNIST"
   ]
  },
  {
   "cell_type": "code",
   "execution_count": 1,
   "id": "67a96400",
   "metadata": {
    "colab": {
     "base_uri": "https://localhost:8080/"
    },
    "id": "67a96400",
    "outputId": "53dd8d06-51d8-4bbc-e001-e7ed961a55b7",
    "scrolled": true
   },
   "outputs": [
    {
     "name": "stdout",
     "output_type": "stream",
     "text": [
      "Once deleted, variables cannot be recovered. Proceed (y/[n])? y\n"
     ]
    }
   ],
   "source": [
    "%reset"
   ]
  },
  {
   "cell_type": "code",
   "execution_count": 2,
   "id": "8f481543",
   "metadata": {
    "id": "8f481543"
   },
   "outputs": [],
   "source": [
    "import tensorflow as tf\n",
    "from tensorflow import keras\n",
    "import matplotlib.pyplot as plt\n",
    "import numpy as np\n",
    "import os\n",
    "import math\n",
    "%matplotlib inline\n",
    "%config InlineBackend.figure_format='retina'\n",
    "\n",
    "from keras.layers import concatenate, Dense, Reshape, BatchNormalization, Activation, Conv2DTranspose\n",
    "from keras.layers import Conv2D, LeakyReLU, Flatten"
   ]
  },
  {
   "cell_type": "code",
   "execution_count": 3,
   "id": "2768f2ea",
   "metadata": {
    "id": "2768f2ea"
   },
   "outputs": [],
   "source": [
    "def plot_images(generator,\n",
    "                noise_input,\n",
    "                noise_label=None,\n",
    "                noise_codes=None,\n",
    "                show=False,\n",
    "                step=0,\n",
    "                model_name=\"gan\"):\n",
    "    \"\"\"\n",
    "    # Arguments\n",
    "        generator (Model)\n",
    "        noise_input (ndarray)\n",
    "        show (bool)\n",
    "        step (int)\n",
    "        model_name (string)\n",
    "\n",
    "    \"\"\"\n",
    "    filepath = os.path.join(model_name, \"generated\")\n",
    "    os.makedirs(filepath, exist_ok=True)\n",
    "    \n",
    "    filename = os.path.join(filepath, \"%05d.png\" %step)\n",
    "    \n",
    "    rows = int(math.sqrt(noise_input.shape[0]))\n",
    "    if noise_label is not None:\n",
    "        noise_input = [noise_input, noise_label]\n",
    "        if noise_codes is not None:\n",
    "            noise_input += noise_codes\n",
    "\n",
    "    images = generator.predict(noise_input, verbose=None)\n",
    "    plt.figure(figsize=(2.2, 2.2))\n",
    "    num_images = images.shape[0]\n",
    "    image_size = images.shape[1]\n",
    "    for i in range(num_images):\n",
    "        plt.subplot(rows, rows, i + 1)\n",
    "        image = np.reshape(images[i], [image_size, image_size])\n",
    "        plt.imshow(image, cmap='gray')\n",
    "        plt.axis('off')\n",
    "    plt.savefig(filename)\n",
    "    if show:\n",
    "        plt.show()\n",
    "    else:\n",
    "        plt.close('all')"
   ]
  },
  {
   "cell_type": "code",
   "execution_count": 4,
   "id": "70bcb2d1",
   "metadata": {
    "id": "70bcb2d1"
   },
   "outputs": [],
   "source": [
    "def build_generator(inputs, image_size):\n",
    "    # Stack: BN-ReLU-Conv2DTranspose\n",
    "    # inputs: z-vector(noise)\n",
    "    # image_size: Target size\n",
    "    # return: Model\n",
    "    \n",
    "    image_resize = image_size // 4\n",
    "    kernel_size = 5\n",
    "    layer_filters = [128, 64, 32, 1]\n",
    "    \n",
    "    x = Dense(image_resize*image_resize*layer_filters[0])(inputs)\n",
    "    x = Reshape((image_resize, image_resize, layer_filters[0]))(x)\n",
    "    \n",
    "    for filters in layer_filters:\n",
    "        # 1st, 2nd Conv layers: strides = 2\n",
    "        # 3rd, 4th Conv layers: strides = 1\n",
    "        if filters > layer_filters[-2]: #128, 64\n",
    "            strides = 2\n",
    "        else:\n",
    "            strides = 1\n",
    "        # BN-ReLU-Conv2DTranspose\n",
    "        x = BatchNormalization()(x)\n",
    "        x = Activation('relu')(x)\n",
    "        x = Conv2DTranspose(filters=filters,\n",
    "                            kernel_size=kernel_size,\n",
    "                            strides=strides,\n",
    "                            padding='same'\n",
    "                           )(x)\n",
    "        \n",
    "    x = Activation('sigmoid')(x)\n",
    "    generator = keras.Model(inputs, x, name='generator')\n",
    "    return generator"
   ]
  },
  {
   "cell_type": "code",
   "execution_count": 5,
   "id": "c6141c12",
   "metadata": {
    "id": "c6141c12"
   },
   "outputs": [],
   "source": [
    "def build_discriminator(inputs):\n",
    "    # BN으로는 수렴하지 않음\n",
    "    # Stack: LeakyReLU-Conv2D\n",
    "    # inputs: Image\n",
    "    # return: Model\n",
    "    \n",
    "    kernel_size = 5\n",
    "    layer_filters = [32, 64, 128, 256]\n",
    "    \n",
    "    x = inputs\n",
    "    \n",
    "    for filters in layer_filters:\n",
    "        # 1st, 2nd, 3rd Conv layers: strides = 2\n",
    "        # 4th Conv layers: strides = 1\n",
    "        if filters == layer_filters[-1]:\n",
    "            strides = 1\n",
    "        else:\n",
    "            strides = 2\n",
    "        # LeakyReLU-Conv2D\n",
    "        x = LeakyReLU(alpha=0.2)(x)\n",
    "        x = Conv2D(filters=filters,\n",
    "                   kernel_size=kernel_size,\n",
    "                   strides=strides,\n",
    "                   padding='same'\n",
    "                  )(x)\n",
    "    x = Flatten()(x)\n",
    "    x = Dense(1)(x)\n",
    "    x = Activation('sigmoid')(x)\n",
    "    discriminator = keras.Model(inputs, x, name='discriminator')\n",
    "    return discriminator"
   ]
  },
  {
   "cell_type": "code",
   "execution_count": 6,
   "id": "9016a724",
   "metadata": {
    "id": "9016a724"
   },
   "outputs": [],
   "source": [
    "def build_and_train_models():\n",
    "    (x_train, _), (_, _) = keras.datasets.mnist.load_data()\n",
    "    \n",
    "    # Reshape & Normalize\n",
    "    image_size = x_train.shape[1]\n",
    "    x_train = np.reshape(x_train, [-1, image_size, image_size, 1])\n",
    "    x_train = x_train.astype('float32')/255\n",
    "    \n",
    "    model_name = 'MNIST_DCGAN'\n",
    "    # Network Params\n",
    "    latent_size = 100 # z-vector dimension\n",
    "    batch_size = 64\n",
    "    train_steps = 40000\n",
    "    lr = 2e-4\n",
    "    decay = 6e-8 # decays the lerning rate over time\n",
    "    input_shape = (image_size, image_size, 1)\n",
    "\n",
    "    # In Keras 2.11.0, 'decay' argument changed to 'weight_decay'\n",
    "    # Discriminator model\n",
    "    inputs = keras.Input(shape=input_shape, name='discriminator_input')\n",
    "    discriminator = build_discriminator(inputs)\n",
    "    optimizer = keras.optimizers.legacy.RMSprop(learning_rate=lr, decay=decay)\n",
    "    discriminator.compile(loss='binary_crossentropy',\n",
    "                         optimizer=optimizer,\n",
    "                         metrics=['accuracy']\n",
    "                        )\n",
    "    discriminator.summary()\n",
    "    keras.utils.plot_model(model=discriminator,\n",
    "                           to_file=os.path.join(model_name, \"discriminator.png\"),\n",
    "                           show_shapes=False\n",
    "                          )\n",
    "    \n",
    "    # Generator model\n",
    "    input_shape = (latent_size, )\n",
    "    inputs = keras.Input(shape=input_shape, name='z_input')\n",
    "    generator = build_generator(inputs, image_size)\n",
    "    generator.summary()\n",
    "    keras.utils.plot_model(model=generator,\n",
    "                           to_file=os.path.join(model_name, \"generator.png\"),\n",
    "                           show_shapes=False\n",
    "                          )\n",
    "    \n",
    "    # Adversarial model\n",
    "    optimizer = keras.optimizers.legacy.RMSprop(learning_rate=lr*0.5,\n",
    "                                         decay=decay*0.5,\n",
    "                                        )\n",
    "    discriminator.trainable = False\n",
    "    ## Adversarial = Generator + Discriminator\n",
    "    adversarial = keras.Model(inputs, discriminator(generator(inputs)), name='adversarial')\n",
    "    adversarial.compile(loss='binary_crossentropy',\n",
    "                        optimizer=optimizer,\n",
    "                        metrics=['accuracy']\n",
    "                       )\n",
    "    adversarial.summary()\n",
    "    keras.utils.plot_model(model=adversarial,\n",
    "                           to_file=os.path.join(model_name, \"adversarial.png\"),\n",
    "                           show_shapes=False\n",
    "                          )\n",
    "    \n",
    "    models = (generator, discriminator, adversarial)\n",
    "    params = (batch_size, latent_size, train_steps, model_name)\n",
    "    train(models, x_train, params)"
   ]
  },
  {
   "cell_type": "code",
   "execution_count": 7,
   "id": "0d669a48",
   "metadata": {
    "id": "0d669a48"
   },
   "outputs": [],
   "source": [
    "def train(models, x_train, params):\n",
    "    # Discriminator와 Adversarial Model을 배치 단위로 번갈아 훈련\n",
    "    ## Discriminator는 제대로 레이블이 붙은 진짜와 가짜 이미지를 가지고 훈련\n",
    "    ## Adversarial는 진짜인 척하는 가짜 이미지로 훈련\n",
    "    \n",
    "    # GAN Model\n",
    "    generator, discriminator, adversarial = models\n",
    "    \n",
    "    # Network Params\n",
    "    batch_size, latent_size, train_steps, model_name = params\n",
    "    \n",
    "    # Save Generator Images every 500 epochs\n",
    "    save_interval = 500\n",
    "    \n",
    "    # Noise_Input\n",
    "    noise_input = np.random.uniform(-1.0, 1.0, size=[16, latent_size]) # 16 x 100\n",
    "    train_size = x_train.shape[0]\n",
    "    for i in range(train_steps): # train_steps: 40,000\n",
    "        # First - Discriminator Train\n",
    "        # Real Images\n",
    "        rand_indexes = np.random.randint(0, train_size, size=batch_size)\n",
    "        real_images = x_train[rand_indexes]\n",
    "        \n",
    "        # Fake Images\n",
    "        # Make noise by using Uniform Distribution\n",
    "        noise = np.random.uniform(-1.0, 1.0, size=[batch_size, latent_size])\n",
    "        fake_images = generator.predict(noise, verbose=None)\n",
    "        \n",
    "        # x: Real Images + Fake Images\n",
    "        x = np.concatenate((real_images, fake_images))\n",
    "        # y: real_images-1, fake_images-0\n",
    "        y = np.ones([2*batch_size, 1])\n",
    "        y[batch_size:, :] = 0.0\n",
    "        \n",
    "        loss, acc = discriminator.train_on_batch(x, y)\n",
    "        log = \"%d: [discriminator loss: %f, acc: %f]\" %(i, loss, acc)\n",
    "        \n",
    "        # Second - Adversarial Train\n",
    "        noise = np.random.uniform(-1.0, 1.0, size=[batch_size, latent_size])\n",
    "        y = np.ones([batch_size, 1])\n",
    "        \n",
    "        loss, acc = adversarial.train_on_batch(noise, y)\n",
    "        log = \"%s: [adversarial loss: %f, acc: %f]\" %(log, loss, acc)\n",
    "        \n",
    "        if i % 100 == 0:\n",
    "            print(log)\n",
    "        \n",
    "        # Show generator images per 500 epochs\n",
    "        if (i+1) % save_interval == 0: # 500\n",
    "            if (i+1) == train_steps: # 40,000\n",
    "                show = True\n",
    "            else:\n",
    "                show = False\n",
    "                \n",
    "            # Make generator images per 500 epochs\n",
    "            plot_images(generator,\n",
    "                        noise_input=noise_input,\n",
    "                        show=show,\n",
    "                        step=(i+1),\n",
    "                        model_name=model_name\n",
    "                       )\n",
    "        \n",
    "    generator.save(model_name + \"/mnist_dcgan.h5\")"
   ]
  },
  {
   "cell_type": "code",
   "execution_count": 8,
   "id": "dad8c839",
   "metadata": {
    "colab": {
     "base_uri": "https://localhost:8080/"
    },
    "id": "dad8c839",
    "outputId": "a9df1933-3d58-4406-c995-3ce379bc7586",
    "scrolled": true
   },
   "outputs": [
    {
     "name": "stdout",
     "output_type": "stream",
     "text": [
      "Model: \"discriminator\"\n",
      "_________________________________________________________________\n",
      " Layer (type)                Output Shape              Param #   \n",
      "=================================================================\n",
      " discriminator_input (InputL  [(None, 28, 28, 1)]      0         \n",
      " ayer)                                                           \n",
      "                                                                 \n",
      " leaky_re_lu (LeakyReLU)     (None, 28, 28, 1)         0         \n",
      "                                                                 \n",
      " conv2d (Conv2D)             (None, 14, 14, 32)        832       \n",
      "                                                                 \n",
      " leaky_re_lu_1 (LeakyReLU)   (None, 14, 14, 32)        0         \n",
      "                                                                 \n",
      " conv2d_1 (Conv2D)           (None, 7, 7, 64)          51264     \n",
      "                                                                 \n",
      " leaky_re_lu_2 (LeakyReLU)   (None, 7, 7, 64)          0         \n",
      "                                                                 \n",
      " conv2d_2 (Conv2D)           (None, 4, 4, 128)         204928    \n",
      "                                                                 \n",
      " leaky_re_lu_3 (LeakyReLU)   (None, 4, 4, 128)         0         \n",
      "                                                                 \n",
      " conv2d_3 (Conv2D)           (None, 4, 4, 256)         819456    \n",
      "                                                                 \n",
      " flatten (Flatten)           (None, 4096)              0         \n",
      "                                                                 \n",
      " dense (Dense)               (None, 1)                 4097      \n",
      "                                                                 \n",
      " activation (Activation)     (None, 1)                 0         \n",
      "                                                                 \n",
      "=================================================================\n",
      "Total params: 1,080,577\n",
      "Trainable params: 1,080,577\n",
      "Non-trainable params: 0\n",
      "_________________________________________________________________\n",
      "You must install pydot (`pip install pydot`) and install graphviz (see instructions at https://graphviz.gitlab.io/download/) for plot_model to work.\n"
     ]
    },
    {
     "name": "stderr",
     "output_type": "stream",
     "text": [
      "2023-06-27 08:38:36.522623: I tensorflow/core/common_runtime/gpu/gpu_device.cc:1613] Created device /job:localhost/replica:0/task:0/device:GPU:0 with 7924 MB memory:  -> device: 0, name: NVIDIA A100 80GB PCIe MIG 1g.10gb, pci bus id: 0000:ca:00.0, compute capability: 8.0\n"
     ]
    },
    {
     "name": "stdout",
     "output_type": "stream",
     "text": [
      "Model: \"generator\"\n",
      "_________________________________________________________________\n",
      " Layer (type)                Output Shape              Param #   \n",
      "=================================================================\n",
      " z_input (InputLayer)        [(None, 100)]             0         \n",
      "                                                                 \n",
      " dense_1 (Dense)             (None, 6272)              633472    \n",
      "                                                                 \n",
      " reshape (Reshape)           (None, 7, 7, 128)         0         \n",
      "                                                                 \n",
      " batch_normalization (BatchN  (None, 7, 7, 128)        512       \n",
      " ormalization)                                                   \n",
      "                                                                 \n",
      " activation_1 (Activation)   (None, 7, 7, 128)         0         \n",
      "                                                                 \n",
      " conv2d_transpose (Conv2DTra  (None, 14, 14, 128)      409728    \n",
      " nspose)                                                         \n",
      "                                                                 \n",
      " batch_normalization_1 (Batc  (None, 14, 14, 128)      512       \n",
      " hNormalization)                                                 \n",
      "                                                                 \n",
      " activation_2 (Activation)   (None, 14, 14, 128)       0         \n",
      "                                                                 \n",
      " conv2d_transpose_1 (Conv2DT  (None, 28, 28, 64)       204864    \n",
      " ranspose)                                                       \n",
      "                                                                 \n",
      " batch_normalization_2 (Batc  (None, 28, 28, 64)       256       \n",
      " hNormalization)                                                 \n",
      "                                                                 \n",
      " activation_3 (Activation)   (None, 28, 28, 64)        0         \n",
      "                                                                 \n",
      " conv2d_transpose_2 (Conv2DT  (None, 28, 28, 32)       51232     \n",
      " ranspose)                                                       \n",
      "                                                                 \n",
      " batch_normalization_3 (Batc  (None, 28, 28, 32)       128       \n",
      " hNormalization)                                                 \n",
      "                                                                 \n",
      " activation_4 (Activation)   (None, 28, 28, 32)        0         \n",
      "                                                                 \n",
      " conv2d_transpose_3 (Conv2DT  (None, 28, 28, 1)        801       \n",
      " ranspose)                                                       \n",
      "                                                                 \n",
      " activation_5 (Activation)   (None, 28, 28, 1)         0         \n",
      "                                                                 \n",
      "=================================================================\n",
      "Total params: 1,301,505\n",
      "Trainable params: 1,300,801\n",
      "Non-trainable params: 704\n",
      "_________________________________________________________________\n",
      "You must install pydot (`pip install pydot`) and install graphviz (see instructions at https://graphviz.gitlab.io/download/) for plot_model to work.\n",
      "Model: \"adversarial\"\n",
      "_________________________________________________________________\n",
      " Layer (type)                Output Shape              Param #   \n",
      "=================================================================\n",
      " z_input (InputLayer)        [(None, 100)]             0         \n",
      "                                                                 \n",
      " generator (Functional)      (None, 28, 28, 1)         1301505   \n",
      "                                                                 \n",
      " discriminator (Functional)  (None, 1)                 1080577   \n",
      "                                                                 \n",
      "=================================================================\n",
      "Total params: 2,382,082\n",
      "Trainable params: 1,300,801\n",
      "Non-trainable params: 1,081,281\n",
      "_________________________________________________________________\n",
      "You must install pydot (`pip install pydot`) and install graphviz (see instructions at https://graphviz.gitlab.io/download/) for plot_model to work.\n"
     ]
    },
    {
     "name": "stderr",
     "output_type": "stream",
     "text": [
      "2023-06-27 08:38:38.186360: I tensorflow/compiler/xla/stream_executor/cuda/cuda_blas.cc:630] TensorFloat-32 will be used for the matrix multiplication. This will only be logged once.\n",
      "2023-06-27 08:38:38.337996: I tensorflow/compiler/xla/stream_executor/cuda/cuda_dnn.cc:428] Loaded cuDNN version 8600\n"
     ]
    },
    {
     "name": "stdout",
     "output_type": "stream",
     "text": [
      "0: [discriminator loss: 0.690922, acc: 0.539062]: [adversarial loss: 1.075980, acc: 0.000000]\n",
      "100: [discriminator loss: 0.000031, acc: 1.000000]: [adversarial loss: 0.000087, acc: 1.000000]\n",
      "200: [discriminator loss: 0.000199, acc: 1.000000]: [adversarial loss: 0.002282, acc: 1.000000]\n",
      "300: [discriminator loss: 0.003052, acc: 1.000000]: [adversarial loss: 0.005996, acc: 1.000000]\n",
      "400: [discriminator loss: 0.039267, acc: 0.984375]: [adversarial loss: 0.161511, acc: 1.000000]\n",
      "1/1 [==============================] - 0s 189ms/step\n",
      "500: [discriminator loss: 0.055449, acc: 0.976562]: [adversarial loss: 2.528187, acc: 0.000000]\n",
      "600: [discriminator loss: 0.076744, acc: 0.984375]: [adversarial loss: 2.921901, acc: 0.000000]\n",
      "700: [discriminator loss: 0.001698, acc: 1.000000]: [adversarial loss: 0.000125, acc: 1.000000]\n",
      "800: [discriminator loss: 0.293632, acc: 0.882812]: [adversarial loss: 2.482564, acc: 0.031250]\n",
      "900: [discriminator loss: 0.548802, acc: 0.726562]: [adversarial loss: 0.992462, acc: 0.296875]\n",
      "1/1 [==============================] - 0s 20ms/step\n",
      "1000: [discriminator loss: 0.594407, acc: 0.632812]: [adversarial loss: 0.627296, acc: 0.625000]\n",
      "1100: [discriminator loss: 0.599901, acc: 0.648438]: [adversarial loss: 1.292241, acc: 0.062500]\n",
      "1200: [discriminator loss: 0.673705, acc: 0.609375]: [adversarial loss: 2.005812, acc: 0.000000]\n",
      "1300: [discriminator loss: 0.547847, acc: 0.703125]: [adversarial loss: 0.861107, acc: 0.421875]\n",
      "1400: [discriminator loss: 0.464190, acc: 0.812500]: [adversarial loss: 1.283448, acc: 0.187500]\n"
     ]
    },
    {
     "ename": "KeyboardInterrupt",
     "evalue": "",
     "output_type": "error",
     "traceback": [
      "\u001b[0;31m---------------------------------------------------------------------------\u001b[0m",
      "\u001b[0;31mKeyboardInterrupt\u001b[0m                         Traceback (most recent call last)",
      "Cell \u001b[0;32mIn[8], line 2\u001b[0m\n\u001b[1;32m      1\u001b[0m \u001b[38;5;28;01mif\u001b[39;00m \u001b[38;5;18m__name__\u001b[39m\u001b[38;5;241m==\u001b[39m\u001b[38;5;124m\"\u001b[39m\u001b[38;5;124m__main__\u001b[39m\u001b[38;5;124m\"\u001b[39m:\n\u001b[0;32m----> 2\u001b[0m     \u001b[43mbuild_and_train_models\u001b[49m\u001b[43m(\u001b[49m\u001b[43m)\u001b[49m\n",
      "Cell \u001b[0;32mIn[6], line 62\u001b[0m, in \u001b[0;36mbuild_and_train_models\u001b[0;34m()\u001b[0m\n\u001b[1;32m     60\u001b[0m models \u001b[38;5;241m=\u001b[39m (generator, discriminator, adversarial)\n\u001b[1;32m     61\u001b[0m params \u001b[38;5;241m=\u001b[39m (batch_size, latent_size, train_steps, model_name)\n\u001b[0;32m---> 62\u001b[0m \u001b[43mtrain\u001b[49m\u001b[43m(\u001b[49m\u001b[43mmodels\u001b[49m\u001b[43m,\u001b[49m\u001b[43m \u001b[49m\u001b[43mx_train\u001b[49m\u001b[43m,\u001b[49m\u001b[43m \u001b[49m\u001b[43mparams\u001b[49m\u001b[43m)\u001b[49m\n",
      "Cell \u001b[0;32mIn[7], line 42\u001b[0m, in \u001b[0;36mtrain\u001b[0;34m(models, x_train, params)\u001b[0m\n\u001b[1;32m     39\u001b[0m noise \u001b[38;5;241m=\u001b[39m np\u001b[38;5;241m.\u001b[39mrandom\u001b[38;5;241m.\u001b[39muniform(\u001b[38;5;241m-\u001b[39m\u001b[38;5;241m1.0\u001b[39m, \u001b[38;5;241m1.0\u001b[39m, size\u001b[38;5;241m=\u001b[39m[batch_size, latent_size])\n\u001b[1;32m     40\u001b[0m y \u001b[38;5;241m=\u001b[39m np\u001b[38;5;241m.\u001b[39mones([batch_size, \u001b[38;5;241m1\u001b[39m])\n\u001b[0;32m---> 42\u001b[0m loss, acc \u001b[38;5;241m=\u001b[39m \u001b[43madversarial\u001b[49m\u001b[38;5;241;43m.\u001b[39;49m\u001b[43mtrain_on_batch\u001b[49m\u001b[43m(\u001b[49m\u001b[43mnoise\u001b[49m\u001b[43m,\u001b[49m\u001b[43m \u001b[49m\u001b[43my\u001b[49m\u001b[43m)\u001b[49m\n\u001b[1;32m     43\u001b[0m log \u001b[38;5;241m=\u001b[39m \u001b[38;5;124m\"\u001b[39m\u001b[38;5;132;01m%s\u001b[39;00m\u001b[38;5;124m: [adversarial loss: \u001b[39m\u001b[38;5;132;01m%f\u001b[39;00m\u001b[38;5;124m, acc: \u001b[39m\u001b[38;5;132;01m%f\u001b[39;00m\u001b[38;5;124m]\u001b[39m\u001b[38;5;124m\"\u001b[39m \u001b[38;5;241m%\u001b[39m(log, loss, acc)\n\u001b[1;32m     45\u001b[0m \u001b[38;5;28;01mif\u001b[39;00m i \u001b[38;5;241m%\u001b[39m \u001b[38;5;241m100\u001b[39m \u001b[38;5;241m==\u001b[39m \u001b[38;5;241m0\u001b[39m:\n",
      "File \u001b[0;32m~/.local/lib/python3.10/site-packages/keras/engine/training.py:2480\u001b[0m, in \u001b[0;36mModel.train_on_batch\u001b[0;34m(self, x, y, sample_weight, class_weight, reset_metrics, return_dict)\u001b[0m\n\u001b[1;32m   2477\u001b[0m     \u001b[38;5;28mself\u001b[39m\u001b[38;5;241m.\u001b[39mtrain_function \u001b[38;5;241m=\u001b[39m \u001b[38;5;28mself\u001b[39m\u001b[38;5;241m.\u001b[39mmake_train_function()\n\u001b[1;32m   2478\u001b[0m     logs \u001b[38;5;241m=\u001b[39m \u001b[38;5;28mself\u001b[39m\u001b[38;5;241m.\u001b[39mtrain_function(iterator)\n\u001b[0;32m-> 2480\u001b[0m logs \u001b[38;5;241m=\u001b[39m \u001b[43mtf_utils\u001b[49m\u001b[38;5;241;43m.\u001b[39;49m\u001b[43msync_to_numpy_or_python_type\u001b[49m\u001b[43m(\u001b[49m\u001b[43mlogs\u001b[49m\u001b[43m)\u001b[49m\n\u001b[1;32m   2481\u001b[0m \u001b[38;5;28;01mif\u001b[39;00m return_dict:\n\u001b[1;32m   2482\u001b[0m     \u001b[38;5;28;01mreturn\u001b[39;00m logs\n",
      "File \u001b[0;32m~/.local/lib/python3.10/site-packages/keras/utils/tf_utils.py:665\u001b[0m, in \u001b[0;36msync_to_numpy_or_python_type\u001b[0;34m(tensors)\u001b[0m\n\u001b[1;32m    662\u001b[0m         \u001b[38;5;28;01mreturn\u001b[39;00m t\n\u001b[1;32m    663\u001b[0m     \u001b[38;5;28;01mreturn\u001b[39;00m t\u001b[38;5;241m.\u001b[39mitem() \u001b[38;5;28;01mif\u001b[39;00m np\u001b[38;5;241m.\u001b[39mndim(t) \u001b[38;5;241m==\u001b[39m \u001b[38;5;241m0\u001b[39m \u001b[38;5;28;01melse\u001b[39;00m t\n\u001b[0;32m--> 665\u001b[0m \u001b[38;5;28;01mreturn\u001b[39;00m \u001b[43mtf\u001b[49m\u001b[38;5;241;43m.\u001b[39;49m\u001b[43mnest\u001b[49m\u001b[38;5;241;43m.\u001b[39;49m\u001b[43mmap_structure\u001b[49m\u001b[43m(\u001b[49m\u001b[43m_to_single_numpy_or_python_type\u001b[49m\u001b[43m,\u001b[49m\u001b[43m \u001b[49m\u001b[43mtensors\u001b[49m\u001b[43m)\u001b[49m\n",
      "File \u001b[0;32m~/.local/lib/python3.10/site-packages/tensorflow/python/util/nest.py:917\u001b[0m, in \u001b[0;36mmap_structure\u001b[0;34m(func, *structure, **kwargs)\u001b[0m\n\u001b[1;32m    913\u001b[0m flat_structure \u001b[38;5;241m=\u001b[39m (flatten(s, expand_composites) \u001b[38;5;28;01mfor\u001b[39;00m s \u001b[38;5;129;01min\u001b[39;00m structure)\n\u001b[1;32m    914\u001b[0m entries \u001b[38;5;241m=\u001b[39m \u001b[38;5;28mzip\u001b[39m(\u001b[38;5;241m*\u001b[39mflat_structure)\n\u001b[1;32m    916\u001b[0m \u001b[38;5;28;01mreturn\u001b[39;00m pack_sequence_as(\n\u001b[0;32m--> 917\u001b[0m     structure[\u001b[38;5;241m0\u001b[39m], [func(\u001b[38;5;241m*\u001b[39mx) \u001b[38;5;28;01mfor\u001b[39;00m x \u001b[38;5;129;01min\u001b[39;00m entries],\n\u001b[1;32m    918\u001b[0m     expand_composites\u001b[38;5;241m=\u001b[39mexpand_composites)\n",
      "File \u001b[0;32m~/.local/lib/python3.10/site-packages/tensorflow/python/util/nest.py:917\u001b[0m, in \u001b[0;36m<listcomp>\u001b[0;34m(.0)\u001b[0m\n\u001b[1;32m    913\u001b[0m flat_structure \u001b[38;5;241m=\u001b[39m (flatten(s, expand_composites) \u001b[38;5;28;01mfor\u001b[39;00m s \u001b[38;5;129;01min\u001b[39;00m structure)\n\u001b[1;32m    914\u001b[0m entries \u001b[38;5;241m=\u001b[39m \u001b[38;5;28mzip\u001b[39m(\u001b[38;5;241m*\u001b[39mflat_structure)\n\u001b[1;32m    916\u001b[0m \u001b[38;5;28;01mreturn\u001b[39;00m pack_sequence_as(\n\u001b[0;32m--> 917\u001b[0m     structure[\u001b[38;5;241m0\u001b[39m], [\u001b[43mfunc\u001b[49m\u001b[43m(\u001b[49m\u001b[38;5;241;43m*\u001b[39;49m\u001b[43mx\u001b[49m\u001b[43m)\u001b[49m \u001b[38;5;28;01mfor\u001b[39;00m x \u001b[38;5;129;01min\u001b[39;00m entries],\n\u001b[1;32m    918\u001b[0m     expand_composites\u001b[38;5;241m=\u001b[39mexpand_composites)\n",
      "File \u001b[0;32m~/.local/lib/python3.10/site-packages/keras/utils/tf_utils.py:658\u001b[0m, in \u001b[0;36msync_to_numpy_or_python_type.<locals>._to_single_numpy_or_python_type\u001b[0;34m(t)\u001b[0m\n\u001b[1;32m    655\u001b[0m \u001b[38;5;28;01mdef\u001b[39;00m \u001b[38;5;21m_to_single_numpy_or_python_type\u001b[39m(t):\n\u001b[1;32m    656\u001b[0m     \u001b[38;5;66;03m# Don't turn ragged or sparse tensors to NumPy.\u001b[39;00m\n\u001b[1;32m    657\u001b[0m     \u001b[38;5;28;01mif\u001b[39;00m \u001b[38;5;28misinstance\u001b[39m(t, tf\u001b[38;5;241m.\u001b[39mTensor):\n\u001b[0;32m--> 658\u001b[0m         t \u001b[38;5;241m=\u001b[39m \u001b[43mt\u001b[49m\u001b[38;5;241;43m.\u001b[39;49m\u001b[43mnumpy\u001b[49m\u001b[43m(\u001b[49m\u001b[43m)\u001b[49m\n\u001b[1;32m    659\u001b[0m     \u001b[38;5;66;03m# Strings, ragged and sparse tensors don't have .item(). Return them\u001b[39;00m\n\u001b[1;32m    660\u001b[0m     \u001b[38;5;66;03m# as-is.\u001b[39;00m\n\u001b[1;32m    661\u001b[0m     \u001b[38;5;28;01mif\u001b[39;00m \u001b[38;5;129;01mnot\u001b[39;00m \u001b[38;5;28misinstance\u001b[39m(t, (np\u001b[38;5;241m.\u001b[39mndarray, np\u001b[38;5;241m.\u001b[39mgeneric)):\n",
      "File \u001b[0;32m~/.local/lib/python3.10/site-packages/tensorflow/python/framework/ops.py:1155\u001b[0m, in \u001b[0;36m_EagerTensorBase.numpy\u001b[0;34m(self)\u001b[0m\n\u001b[1;32m   1132\u001b[0m \u001b[38;5;250m\u001b[39m\u001b[38;5;124;03m\"\"\"Copy of the contents of this Tensor into a NumPy array or scalar.\u001b[39;00m\n\u001b[1;32m   1133\u001b[0m \n\u001b[1;32m   1134\u001b[0m \u001b[38;5;124;03mUnlike NumPy arrays, Tensors are immutable, so this method has to copy\u001b[39;00m\n\u001b[0;32m   (...)\u001b[0m\n\u001b[1;32m   1152\u001b[0m \u001b[38;5;124;03m    NumPy dtype.\u001b[39;00m\n\u001b[1;32m   1153\u001b[0m \u001b[38;5;124;03m\"\"\"\u001b[39;00m\n\u001b[1;32m   1154\u001b[0m \u001b[38;5;66;03m# TODO(slebedev): Consider avoiding a copy for non-CPU or remote tensors.\u001b[39;00m\n\u001b[0;32m-> 1155\u001b[0m maybe_arr \u001b[38;5;241m=\u001b[39m \u001b[38;5;28;43mself\u001b[39;49m\u001b[38;5;241;43m.\u001b[39;49m\u001b[43m_numpy\u001b[49m\u001b[43m(\u001b[49m\u001b[43m)\u001b[49m  \u001b[38;5;66;03m# pylint: disable=protected-access\u001b[39;00m\n\u001b[1;32m   1156\u001b[0m \u001b[38;5;28;01mreturn\u001b[39;00m maybe_arr\u001b[38;5;241m.\u001b[39mcopy() \u001b[38;5;28;01mif\u001b[39;00m \u001b[38;5;28misinstance\u001b[39m(maybe_arr, np\u001b[38;5;241m.\u001b[39mndarray) \u001b[38;5;28;01melse\u001b[39;00m maybe_arr\n",
      "File \u001b[0;32m~/.local/lib/python3.10/site-packages/tensorflow/python/framework/ops.py:1121\u001b[0m, in \u001b[0;36m_EagerTensorBase._numpy\u001b[0;34m(self)\u001b[0m\n\u001b[1;32m   1119\u001b[0m \u001b[38;5;28;01mdef\u001b[39;00m \u001b[38;5;21m_numpy\u001b[39m(\u001b[38;5;28mself\u001b[39m):\n\u001b[1;32m   1120\u001b[0m   \u001b[38;5;28;01mtry\u001b[39;00m:\n\u001b[0;32m-> 1121\u001b[0m     \u001b[38;5;28;01mreturn\u001b[39;00m \u001b[38;5;28;43mself\u001b[39;49m\u001b[38;5;241;43m.\u001b[39;49m\u001b[43m_numpy_internal\u001b[49m\u001b[43m(\u001b[49m\u001b[43m)\u001b[49m\n\u001b[1;32m   1122\u001b[0m   \u001b[38;5;28;01mexcept\u001b[39;00m core\u001b[38;5;241m.\u001b[39m_NotOkStatusException \u001b[38;5;28;01mas\u001b[39;00m e:  \u001b[38;5;66;03m# pylint: disable=protected-access\u001b[39;00m\n\u001b[1;32m   1123\u001b[0m     \u001b[38;5;28;01mraise\u001b[39;00m core\u001b[38;5;241m.\u001b[39m_status_to_exception(e) \u001b[38;5;28;01mfrom\u001b[39;00m \u001b[38;5;28mNone\u001b[39m\n",
      "\u001b[0;31mKeyboardInterrupt\u001b[0m: "
     ]
    }
   ],
   "source": [
    "if __name__==\"__main__\":\n",
    "    build_and_train_models()"
   ]
  },
  {
   "cell_type": "code",
   "execution_count": 5,
   "id": "1d054543",
   "metadata": {
    "colab": {
     "base_uri": "https://localhost:8080/",
     "height": 392
    },
    "id": "1d054543",
    "outputId": "7b37cd10-13de-407b-c382-099ae58f3419"
   },
   "outputs": [
    {
     "name": "stdout",
     "output_type": "stream",
     "text": [
      "WARNING:tensorflow:No training configuration found in the save file, so the model was *not* compiled. Compile it manually.\n"
     ]
    },
    {
     "name": "stderr",
     "output_type": "stream",
     "text": [
      "2023-06-29 16:43:13.193099: I tensorflow/core/grappler/optimizers/custom_graph_optimizer_registry.cc:114] Plugin optimizer for device_type GPU is enabled.\n"
     ]
    },
    {
     "data": {
      "image/png": "[encoded data removed]",
      "text/plain": [
       "<Figure size 220x220 with 16 Axes>"
      ]
     },
     "metadata": {
      "image/png": {
       "height": 189,
       "width": 190
      }
     },
     "output_type": "display_data"
    }
   ],
   "source": [
    "from keras.models import load_model\n",
    "\n",
    "generator = load_model(\"./MNIST_DCGAN/mnist_dcgan.h5\")\n",
    "noise = np.random.uniform(-1.0, 1.0, size=[16, 100])\n",
    "plot_images(generator,\n",
    "            noise_input=noise,\n",
    "            show=True,\n",
    "            model_name=\"./MNIST_DCGAN/test_image\"\n",
    "           )"
   ]
  },
  {
   "cell_type": "code",
   "execution_count": 25,
   "id": "rdG9AgUWG1ez",
   "metadata": {
    "id": "rdG9AgUWG1ez"
   },
   "outputs": [],
   "source": [
    "\"\"\"\n",
    "import argparse\n",
    "\n",
    "def test_generator(generator):\n",
    "    noise = np.random.uniform(-1.0, 1.0, size=[16, 100])\n",
    "    plot_images(generator,\n",
    "            noise_input=noise,\n",
    "            show=True,\n",
    "            model_name=\"test_image\"\n",
    "           )\n",
    "\n",
    "if __name__ == '__main__':\n",
    "    parser = argparse.ArgumentParser()\n",
    "    help_ = \"Load generator h5 model with trained weights\"\n",
    "    parser.add_argument(\"-g\", \"--generator\", help=help_)\n",
    "    args = parser.parse_args() # args에 위 내용 저장\n",
    "    if args.generator:\n",
    "        generator = load_model(args.generator)\n",
    "        test_generator(generator)\n",
    "    else:\n",
    "        build_and_train_models()\n",
    "\"\"\""
   ]
  }
 ],
 "metadata": {
  "kernelspec": {
   "display_name": "Python 3 (ipykernel)",
   "language": "python",
   "name": "python3"
  },
  "language_info": {
   "codemirror_mode": {
    "name": "ipython",
    "version": 3
   },
   "file_extension": ".py",
   "mimetype": "text/x-python",
   "name": "python",
   "nbconvert_exporter": "python",
   "pygments_lexer": "ipython3",
   "version": "3.9.15"
  }
 },
 "nbformat": 4,
 "nbformat_minor": 5
}
